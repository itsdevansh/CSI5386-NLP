{
 "cells": [
  {
   "cell_type": "code",
   "execution_count": 1,
   "metadata": {},
   "outputs": [
    {
     "name": "stderr",
     "output_type": "stream",
     "text": [
      "2025-02-04 20:05:39.283109: I tensorflow/core/platform/cpu_feature_guard.cc:210] This TensorFlow binary is optimized to use available CPU instructions in performance-critical operations.\n",
      "To enable the following instructions: AVX2 FMA, in other operations, rebuild TensorFlow with the appropriate compiler flags.\n"
     ]
    },
    {
     "ename": "",
     "evalue": "",
     "output_type": "error",
     "traceback": [
      "\u001b[1;31mLe noyau s’est bloqué lors de l’exécution du code dans une cellule active ou une cellule précédente. \n",
      "\u001b[1;31mVeuillez vérifier le code dans la ou les cellules pour identifier une cause possible de l’échec. \n",
      "\u001b[1;31mCliquez <a href='https://aka.ms/vscodeJupyterKernelCrash'>ici</a> pour plus d’informations. \n",
      "\u001b[1;31mPour plus d’informations, consultez Jupyter <a href='command:jupyter.viewOutput'>log</a>."
     ]
    }
   ],
   "source": [
    "import tensorflow as tf\n",
    "import tensorflow_hub  \n",
    "import fasttext.util\n",
    "from transformers import AutoTokenizer, AutoModel\n",
    "from scipy.spatial.distance import cosine\n",
    "\n",
    "\n",
    "#Bert tokenizer and model\n",
    "bert_tokenizer = AutoTokenizer.from_pretrained(\"bert-base-uncased\")\n",
    "bert_model = AutoModel.from_pretrained(\"bert-base-uncased\")\n",
    "\n",
    "#GPT\n",
    "gpt_tokenizer = AutoTokenizer.from_pretrained(\"gpt2\")\n",
    "gpt_model = AutoModel.from_pretrained(\"gpt2\")\n",
    "\n",
    "#T5\n",
    "t5_tokenizer = AutoTokenizer.from_pretrained(\"t5-small\")\n",
    "t5_model = AutoModel.from_pretrained(\"t5-small\")\n",
    "\n",
    "#Universal Sentence Encoder\n",
    "use_module_url = \"https://tfhub.dev/google/universal-sentence-encoder/4\"\n",
    "use_model = tensorflow_hub.load(use_module_url)\n",
    "\n",
    "#Fasttext\n",
    "fasttext.util.download_model('en', if_exists='ignore') \n",
    "ft = fasttext.load_model('cc.en.300.bin')\n",
    "\n",
    "def embeddings (m,s) :\n",
    "    if m == \"SBert\" :\n",
    "        input = bert_tokenizer.encode(s,return_tensors=\"pt\")\n",
    "        output = bert_model(input,decoder_input_ids =input)\n",
    "        return output[0]\n",
    "    if m == \"gpt\" :\n",
    "        input = gpt_tokenizer.encode(s,return_tensors=\"pt\")\n",
    "        output = gpt_model(input,decoder_input_ids =input)\n",
    "        return output[0]\n",
    "    \n",
    "print(embeddings (\"SBert\",\"Me voici\"))\n",
    "print(embeddings (\"gpt\",\"Nous sommes là\"))"
   ]
  }
 ],
 "metadata": {
  "kernelspec": {
   "display_name": "base",
   "language": "python",
   "name": "python3"
  },
  "language_info": {
   "codemirror_mode": {
    "name": "ipython",
    "version": 3
   },
   "file_extension": ".py",
   "mimetype": "text/x-python",
   "name": "python",
   "nbconvert_exporter": "python",
   "pygments_lexer": "ipython3",
   "version": "3.12.7"
  }
 },
 "nbformat": 4,
 "nbformat_minor": 2
}
