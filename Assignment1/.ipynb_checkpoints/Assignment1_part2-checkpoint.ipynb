{
 "cells": [
  {
   "cell_type": "code",
   "execution_count": null,
   "metadata": {},
   "outputs": [],
   "source": [
    "#import libraries\n",
    "\n",
    "import tensorflow as tf\n",
    "import tensorflow_hub  \n",
    "import fasttext.util\n",
    "from transformers import AutoTokenizer, AutoModel\n",
    "from scipy.spatial.distance import cosine"
   ]
  },
  {
   "cell_type": "code",
   "execution_count": null,
   "metadata": {},
   "outputs": [],
   "source": [
    "#Bert tokenizer and model\n",
    "bert_tokenizer = AutoTokenizer.from_pretrained(\"bert-base-uncased\")\n",
    "bert_model = AutoModel.from_pretrained(\"bert-base-uncased\")\n",
    "\n",
    "#GPT\n",
    "gpt_tokenizer = AutoTokenizer.from_pretrained(\"gpt2\")\n",
    "gpt_model = AutoModel.from_pretrained(\"gpt2\")\n",
    "\n",
    "#T5\n",
    "t5_tokenizer = AutoTokenizer.from_pretrained(\"t5-small\")\n",
    "t5_model = AutoModel.from_pretrained(\"t5-small\")\n",
    "\n",
    "#Universal Sentence Encoder\n",
    "use_module_url = \"https://tfhub.dev/google/universal-sentence-encoder/4\"\n",
    "use_model = tensorflow_hub.load(use_module_url)\n",
    "\n",
    "#Fasttext\n",
    "fasttext.util.download_model('en', if_exists='ignore') \n",
    "ft = fasttext.load_model('cc.en.300.bin')\n",
    "\n",
    "\n",
    "\n",
    "\n",
    "#Dataset preprocessing - removing metadata\n",
    "def data_preprocessing(input_file,output_file,model) :\n",
    "    with open(input_file, \"r\") as in_file , open(output_file, \"w\") as out_file:\n",
    "        for line in input_file :\n",
    "            s = line.strip().split(\"\\t\")\n",
    "            s_1 = s[0]\n",
    "            s_2 = s[1]\n",
    "\n",
    "\n",
    "            \n",
    "\n",
    "\n",
    "\n",
    "def embeddings (m,s) :\n",
    "    if m == \"SBert\" :\n",
    "        input = bert_tokenizer.encode(s,return_tensors=\"pt\")\n",
    "        output = bert_model(input)\n",
    "    if m == \"gpt\" :\n",
    "        return openai.embeddings.create\n",
    "\n",
    "\n",
    "\n",
    "#Using SBert model\n",
    "\n",
    "\n",
    "\n"
   ]
  }
 ],
 "metadata": {
  "kernelspec": {
   "display_name": "base",
   "language": "python",
   "name": "python3"
  },
  "language_info": {
   "codemirror_mode": {
    "name": "ipython",
    "version": 3
   },
   "file_extension": ".py",
   "mimetype": "text/x-python",
   "name": "python",
   "nbconvert_exporter": "python",
   "pygments_lexer": "ipython3",
   "version": "3.12.7"
  }
 },
 "nbformat": 4,
 "nbformat_minor": 2
}
